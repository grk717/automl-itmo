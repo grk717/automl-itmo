{
 "cells": [
  {
   "cell_type": "code",
   "execution_count": 1,
   "metadata": {},
   "outputs": [],
   "source": [
    "import os\n",
    "os.environ[\"CUDA_DEVICE_ORDER\"]=\"PCI_BUS_ID\"   # see issue #152\n",
    "os.environ[\"CUDA_VISIBLE_DEVICES\"]=\"0\""
   ]
  },
  {
   "cell_type": "code",
   "execution_count": 2,
   "metadata": {},
   "outputs": [],
   "source": [
    "# Essential DS libraries\n",
    "import numpy as np\n",
    "import pandas as pd\n",
    "from sklearn.metrics import f1_score, accuracy_score, confusion_matrix\n",
    "from sklearn.model_selection import train_test_split\n",
    "import torch\n",
    "import seaborn as sns\n",
    "import matplotlib.pyplot as plt\n",
    "from tqdm.notebook import tqdm\n",
    "import cv2\n",
    "# LightAutoML presets, task and report generation\n",
    "from lightautoml.automl.presets.image_presets import TabularCVAutoML\n",
    "from lightautoml.tasks import Task"
   ]
  },
  {
   "cell_type": "code",
   "execution_count": 3,
   "metadata": {},
   "outputs": [],
   "source": [
    "np.random.seed(42)\n",
    "torch.set_num_threads(2)"
   ]
  },
  {
   "cell_type": "code",
   "execution_count": 4,
   "metadata": {},
   "outputs": [],
   "source": [
    "INPUT_DIR = './data/icebergs'"
   ]
  },
  {
   "cell_type": "code",
   "execution_count": 5,
   "metadata": {},
   "outputs": [],
   "source": [
    "train = pd.read_json(f'{INPUT_DIR}/train.json')\n",
    "train['inc_angle'] = pd.to_numeric(train['inc_angle'],errors='coerce')"
   ]
  },
  {
   "cell_type": "code",
   "execution_count": 6,
   "metadata": {},
   "outputs": [
    {
     "data": {
      "text/html": [
       "<div>\n",
       "<style scoped>\n",
       "    .dataframe tbody tr th:only-of-type {\n",
       "        vertical-align: middle;\n",
       "    }\n",
       "\n",
       "    .dataframe tbody tr th {\n",
       "        vertical-align: top;\n",
       "    }\n",
       "\n",
       "    .dataframe thead th {\n",
       "        text-align: right;\n",
       "    }\n",
       "</style>\n",
       "<table border=\"1\" class=\"dataframe\">\n",
       "  <thead>\n",
       "    <tr style=\"text-align: right;\">\n",
       "      <th></th>\n",
       "      <th>id</th>\n",
       "      <th>band_1</th>\n",
       "      <th>band_2</th>\n",
       "      <th>inc_angle</th>\n",
       "      <th>is_iceberg</th>\n",
       "    </tr>\n",
       "  </thead>\n",
       "  <tbody>\n",
       "    <tr>\n",
       "      <th>0</th>\n",
       "      <td>dfd5f913</td>\n",
       "      <td>[-27.878360999999998, -27.15416, -28.668615, -...</td>\n",
       "      <td>[-27.154118, -29.537888, -31.0306, -32.190483,...</td>\n",
       "      <td>43.9239</td>\n",
       "      <td>0</td>\n",
       "    </tr>\n",
       "    <tr>\n",
       "      <th>1</th>\n",
       "      <td>e25388fd</td>\n",
       "      <td>[-12.242375, -14.920304999999999, -14.920363, ...</td>\n",
       "      <td>[-31.506321, -27.984554, -26.645678, -23.76760...</td>\n",
       "      <td>38.1562</td>\n",
       "      <td>0</td>\n",
       "    </tr>\n",
       "    <tr>\n",
       "      <th>2</th>\n",
       "      <td>58b2aaa0</td>\n",
       "      <td>[-24.603676, -24.603714, -24.871029, -23.15277...</td>\n",
       "      <td>[-24.870956, -24.092632, -20.653963, -19.41104...</td>\n",
       "      <td>45.2859</td>\n",
       "      <td>1</td>\n",
       "    </tr>\n",
       "    <tr>\n",
       "      <th>3</th>\n",
       "      <td>4cfc3a18</td>\n",
       "      <td>[-22.454607, -23.082819, -23.998013, -23.99805...</td>\n",
       "      <td>[-27.889421, -27.519794, -27.165262, -29.10350...</td>\n",
       "      <td>43.8306</td>\n",
       "      <td>0</td>\n",
       "    </tr>\n",
       "    <tr>\n",
       "      <th>4</th>\n",
       "      <td>271f93f4</td>\n",
       "      <td>[-26.006956, -23.164886, -23.164886, -26.89116...</td>\n",
       "      <td>[-27.206915, -30.259186, -30.259186, -23.16495...</td>\n",
       "      <td>35.6256</td>\n",
       "      <td>0</td>\n",
       "    </tr>\n",
       "  </tbody>\n",
       "</table>\n",
       "</div>"
      ],
      "text/plain": [
       "         id                                             band_1  \\\n",
       "0  dfd5f913  [-27.878360999999998, -27.15416, -28.668615, -...   \n",
       "1  e25388fd  [-12.242375, -14.920304999999999, -14.920363, ...   \n",
       "2  58b2aaa0  [-24.603676, -24.603714, -24.871029, -23.15277...   \n",
       "3  4cfc3a18  [-22.454607, -23.082819, -23.998013, -23.99805...   \n",
       "4  271f93f4  [-26.006956, -23.164886, -23.164886, -26.89116...   \n",
       "\n",
       "                                              band_2  inc_angle  is_iceberg  \n",
       "0  [-27.154118, -29.537888, -31.0306, -32.190483,...    43.9239           0  \n",
       "1  [-31.506321, -27.984554, -26.645678, -23.76760...    38.1562           0  \n",
       "2  [-24.870956, -24.092632, -20.653963, -19.41104...    45.2859           1  \n",
       "3  [-27.889421, -27.519794, -27.165262, -29.10350...    43.8306           0  \n",
       "4  [-27.206915, -30.259186, -30.259186, -23.16495...    35.6256           0  "
      ]
     },
     "execution_count": 6,
     "metadata": {},
     "output_type": "execute_result"
    }
   ],
   "source": [
    "train.head()"
   ]
  },
  {
   "cell_type": "markdown",
   "metadata": {},
   "source": [
    "## Add features from EDA"
   ]
  },
  {
   "cell_type": "code",
   "execution_count": 7,
   "metadata": {},
   "outputs": [],
   "source": [
    "def get_stats(train: pd.DataFrame,\n",
    "              label:int = 1) -> pd.DataFrame:\n",
    "    train['max'+str(label)] = [np.max(np.array(x)) for x in train['band_'+ str(label)] ]\n",
    "    train['min'+str(label)] = [np.min(np.array(x)) for x in train['band_'+ str(label)] ]\n",
    "    train['std'+str(label)] = [np.std(np.array(x)) for x in train['band_'+ str(label)] ]\n",
    "    train['mean'+str(label)] = [np.mean(np.array(x)) for x in train['band_'+ str(label)] ]\n",
    "    return train\n",
    "train = get_stats(train, 1)\n",
    "train = get_stats(train, 2)"
   ]
  },
  {
   "cell_type": "code",
   "execution_count": 8,
   "metadata": {},
   "outputs": [
    {
     "data": {
      "text/html": [
       "<div>\n",
       "<style scoped>\n",
       "    .dataframe tbody tr th:only-of-type {\n",
       "        vertical-align: middle;\n",
       "    }\n",
       "\n",
       "    .dataframe tbody tr th {\n",
       "        vertical-align: top;\n",
       "    }\n",
       "\n",
       "    .dataframe thead th {\n",
       "        text-align: right;\n",
       "    }\n",
       "</style>\n",
       "<table border=\"1\" class=\"dataframe\">\n",
       "  <thead>\n",
       "    <tr style=\"text-align: right;\">\n",
       "      <th></th>\n",
       "      <th>id</th>\n",
       "      <th>band_1</th>\n",
       "      <th>band_2</th>\n",
       "      <th>inc_angle</th>\n",
       "      <th>is_iceberg</th>\n",
       "      <th>max1</th>\n",
       "      <th>min1</th>\n",
       "      <th>std1</th>\n",
       "      <th>mean1</th>\n",
       "      <th>max2</th>\n",
       "      <th>min2</th>\n",
       "      <th>std2</th>\n",
       "      <th>mean2</th>\n",
       "    </tr>\n",
       "  </thead>\n",
       "  <tbody>\n",
       "    <tr>\n",
       "      <th>0</th>\n",
       "      <td>dfd5f913</td>\n",
       "      <td>[-27.878360999999998, -27.15416, -28.668615, -...</td>\n",
       "      <td>[-27.154118, -29.537888, -31.0306, -32.190483,...</td>\n",
       "      <td>43.9239</td>\n",
       "      <td>0</td>\n",
       "      <td>-0.213149</td>\n",
       "      <td>-38.211376</td>\n",
       "      <td>2.764537</td>\n",
       "      <td>-27.911043</td>\n",
       "      <td>-11.252153</td>\n",
       "      <td>-41.135918</td>\n",
       "      <td>2.381284</td>\n",
       "      <td>-29.910117</td>\n",
       "    </tr>\n",
       "    <tr>\n",
       "      <th>1</th>\n",
       "      <td>e25388fd</td>\n",
       "      <td>[-12.242375, -14.920304999999999, -14.920363, ...</td>\n",
       "      <td>[-31.506321, -27.984554, -26.645678, -23.76760...</td>\n",
       "      <td>38.1562</td>\n",
       "      <td>0</td>\n",
       "      <td>12.570409</td>\n",
       "      <td>-23.125309</td>\n",
       "      <td>3.142532</td>\n",
       "      <td>-13.566554</td>\n",
       "      <td>0.044052</td>\n",
       "      <td>-34.765831</td>\n",
       "      <td>2.934098</td>\n",
       "      <td>-25.359106</td>\n",
       "    </tr>\n",
       "    <tr>\n",
       "      <th>2</th>\n",
       "      <td>58b2aaa0</td>\n",
       "      <td>[-24.603676, -24.603714, -24.871029, -23.15277...</td>\n",
       "      <td>[-24.870956, -24.092632, -20.653963, -19.41104...</td>\n",
       "      <td>45.2859</td>\n",
       "      <td>1</td>\n",
       "      <td>-9.918477</td>\n",
       "      <td>-33.391197</td>\n",
       "      <td>2.223905</td>\n",
       "      <td>-23.053698</td>\n",
       "      <td>-15.605879</td>\n",
       "      <td>-34.148819</td>\n",
       "      <td>2.125275</td>\n",
       "      <td>-24.839821</td>\n",
       "    </tr>\n",
       "    <tr>\n",
       "      <th>3</th>\n",
       "      <td>4cfc3a18</td>\n",
       "      <td>[-22.454607, -23.082819, -23.998013, -23.99805...</td>\n",
       "      <td>[-27.889421, -27.519794, -27.165262, -29.10350...</td>\n",
       "      <td>43.8306</td>\n",
       "      <td>0</td>\n",
       "      <td>4.795627</td>\n",
       "      <td>-32.204136</td>\n",
       "      <td>2.566233</td>\n",
       "      <td>-23.210771</td>\n",
       "      <td>-5.554516</td>\n",
       "      <td>-39.564053</td>\n",
       "      <td>2.389980</td>\n",
       "      <td>-29.567913</td>\n",
       "    </tr>\n",
       "    <tr>\n",
       "      <th>4</th>\n",
       "      <td>271f93f4</td>\n",
       "      <td>[-26.006956, -23.164886, -23.164886, -26.89116...</td>\n",
       "      <td>[-27.206915, -30.259186, -30.259186, -23.16495...</td>\n",
       "      <td>35.6256</td>\n",
       "      <td>0</td>\n",
       "      <td>-6.956036</td>\n",
       "      <td>-35.010487</td>\n",
       "      <td>2.305288</td>\n",
       "      <td>-25.280029</td>\n",
       "      <td>-9.434006</td>\n",
       "      <td>-40.276115</td>\n",
       "      <td>2.276244</td>\n",
       "      <td>-25.627726</td>\n",
       "    </tr>\n",
       "  </tbody>\n",
       "</table>\n",
       "</div>"
      ],
      "text/plain": [
       "         id                                             band_1  \\\n",
       "0  dfd5f913  [-27.878360999999998, -27.15416, -28.668615, -...   \n",
       "1  e25388fd  [-12.242375, -14.920304999999999, -14.920363, ...   \n",
       "2  58b2aaa0  [-24.603676, -24.603714, -24.871029, -23.15277...   \n",
       "3  4cfc3a18  [-22.454607, -23.082819, -23.998013, -23.99805...   \n",
       "4  271f93f4  [-26.006956, -23.164886, -23.164886, -26.89116...   \n",
       "\n",
       "                                              band_2  inc_angle  is_iceberg  \\\n",
       "0  [-27.154118, -29.537888, -31.0306, -32.190483,...    43.9239           0   \n",
       "1  [-31.506321, -27.984554, -26.645678, -23.76760...    38.1562           0   \n",
       "2  [-24.870956, -24.092632, -20.653963, -19.41104...    45.2859           1   \n",
       "3  [-27.889421, -27.519794, -27.165262, -29.10350...    43.8306           0   \n",
       "4  [-27.206915, -30.259186, -30.259186, -23.16495...    35.6256           0   \n",
       "\n",
       "        max1       min1      std1      mean1       max2       min2      std2  \\\n",
       "0  -0.213149 -38.211376  2.764537 -27.911043 -11.252153 -41.135918  2.381284   \n",
       "1  12.570409 -23.125309  3.142532 -13.566554   0.044052 -34.765831  2.934098   \n",
       "2  -9.918477 -33.391197  2.223905 -23.053698 -15.605879 -34.148819  2.125275   \n",
       "3   4.795627 -32.204136  2.566233 -23.210771  -5.554516 -39.564053  2.389980   \n",
       "4  -6.956036 -35.010487  2.305288 -25.280029  -9.434006 -40.276115  2.276244   \n",
       "\n",
       "       mean2  \n",
       "0 -29.910117  \n",
       "1 -25.359106  \n",
       "2 -24.839821  \n",
       "3 -29.567913  \n",
       "4 -25.627726  "
      ]
     },
     "execution_count": 8,
     "metadata": {},
     "output_type": "execute_result"
    }
   ],
   "source": [
    "train.head()"
   ]
  },
  {
   "cell_type": "markdown",
   "metadata": {},
   "source": [
    "## Get images paths and EDA features into DataFrame"
   ]
  },
  {
   "cell_type": "code",
   "execution_count": 9,
   "metadata": {},
   "outputs": [
    {
     "data": {
      "text/html": [
       "<div>\n",
       "<style scoped>\n",
       "    .dataframe tbody tr th:only-of-type {\n",
       "        vertical-align: middle;\n",
       "    }\n",
       "\n",
       "    .dataframe tbody tr th {\n",
       "        vertical-align: top;\n",
       "    }\n",
       "\n",
       "    .dataframe thead th {\n",
       "        text-align: right;\n",
       "    }\n",
       "</style>\n",
       "<table border=\"1\" class=\"dataframe\">\n",
       "  <thead>\n",
       "    <tr style=\"text-align: right;\">\n",
       "      <th></th>\n",
       "      <th>id</th>\n",
       "      <th>path</th>\n",
       "      <th>label</th>\n",
       "      <th>angle</th>\n",
       "      <th>max</th>\n",
       "      <th>min</th>\n",
       "      <th>std</th>\n",
       "      <th>mean</th>\n",
       "    </tr>\n",
       "  </thead>\n",
       "  <tbody>\n",
       "    <tr>\n",
       "      <th>0</th>\n",
       "      <td>dfd5f913</td>\n",
       "      <td>./data/icebergs/train_imgs/dfd5f913_1.jpg</td>\n",
       "      <td>0</td>\n",
       "      <td>43.9239</td>\n",
       "      <td>-0.213149</td>\n",
       "      <td>-38.211376</td>\n",
       "      <td>2.764537</td>\n",
       "      <td>-27.911043</td>\n",
       "    </tr>\n",
       "    <tr>\n",
       "      <th>1</th>\n",
       "      <td>dfd5f913</td>\n",
       "      <td>./data/icebergs/train_imgs/dfd5f913_2.jpg</td>\n",
       "      <td>0</td>\n",
       "      <td>43.9239</td>\n",
       "      <td>-11.252153</td>\n",
       "      <td>-41.135918</td>\n",
       "      <td>2.381284</td>\n",
       "      <td>-29.910117</td>\n",
       "    </tr>\n",
       "    <tr>\n",
       "      <th>2</th>\n",
       "      <td>e25388fd</td>\n",
       "      <td>./data/icebergs/train_imgs/e25388fd_1.jpg</td>\n",
       "      <td>0</td>\n",
       "      <td>38.1562</td>\n",
       "      <td>12.570409</td>\n",
       "      <td>-23.125309</td>\n",
       "      <td>3.142532</td>\n",
       "      <td>-13.566554</td>\n",
       "    </tr>\n",
       "    <tr>\n",
       "      <th>3</th>\n",
       "      <td>e25388fd</td>\n",
       "      <td>./data/icebergs/train_imgs/e25388fd_2.jpg</td>\n",
       "      <td>0</td>\n",
       "      <td>38.1562</td>\n",
       "      <td>0.044052</td>\n",
       "      <td>-34.765831</td>\n",
       "      <td>2.934098</td>\n",
       "      <td>-25.359106</td>\n",
       "    </tr>\n",
       "    <tr>\n",
       "      <th>4</th>\n",
       "      <td>58b2aaa0</td>\n",
       "      <td>./data/icebergs/train_imgs/58b2aaa0_1.jpg</td>\n",
       "      <td>1</td>\n",
       "      <td>45.2859</td>\n",
       "      <td>-9.918477</td>\n",
       "      <td>-33.391197</td>\n",
       "      <td>2.223905</td>\n",
       "      <td>-23.053698</td>\n",
       "    </tr>\n",
       "  </tbody>\n",
       "</table>\n",
       "</div>"
      ],
      "text/plain": [
       "         id                                       path  label    angle  \\\n",
       "0  dfd5f913  ./data/icebergs/train_imgs/dfd5f913_1.jpg      0  43.9239   \n",
       "1  dfd5f913  ./data/icebergs/train_imgs/dfd5f913_2.jpg      0  43.9239   \n",
       "2  e25388fd  ./data/icebergs/train_imgs/e25388fd_1.jpg      0  38.1562   \n",
       "3  e25388fd  ./data/icebergs/train_imgs/e25388fd_2.jpg      0  38.1562   \n",
       "4  58b2aaa0  ./data/icebergs/train_imgs/58b2aaa0_1.jpg      1  45.2859   \n",
       "\n",
       "         max        min       std       mean  \n",
       "0  -0.213149 -38.211376  2.764537 -27.911043  \n",
       "1 -11.252153 -41.135918  2.381284 -29.910117  \n",
       "2  12.570409 -23.125309  3.142532 -13.566554  \n",
       "3   0.044052 -34.765831  2.934098 -25.359106  \n",
       "4  -9.918477 -33.391197  2.223905 -23.053698  "
      ]
     },
     "execution_count": 9,
     "metadata": {},
     "output_type": "execute_result"
    }
   ],
   "source": [
    "new_imgs = []\n",
    "for i, row in train.iterrows():\n",
    "    new_imgs.append((row.id, f'./data/icebergs/train_imgs/{row.id}_1.jpg', row.is_iceberg, row.inc_angle, row.max1, row.min1, row.std1, row.mean1))\n",
    "    new_imgs.append((row.id, f'./data/icebergs/train_imgs/{row.id}_2.jpg', row.is_iceberg, row.inc_angle, row.max2, row.min2, row.std2, row.mean2))\n",
    "train_data = pd.DataFrame(new_imgs, columns = ['id', 'path', 'label', 'angle', \"max\", \"min\", \"std\", \"mean\"])\n",
    "train_data.head()"
   ]
  },
  {
   "cell_type": "markdown",
   "metadata": {},
   "source": [
    "## Lama pipeline in use"
   ]
  },
  {
   "cell_type": "code",
   "execution_count": 11,
   "metadata": {},
   "outputs": [],
   "source": [
    "# scoring metric for this competition is F1 score\n",
    "task = Task(name='binary',\n",
    "            metric = lambda y_true, y_pred: f1_score(y_true, (y_pred > 0.5)*1))"
   ]
  },
  {
   "cell_type": "code",
   "execution_count": 12,
   "metadata": {},
   "outputs": [],
   "source": [
    "roles = {\n",
    "    'target': 'label',\n",
    "    'path': ['path'],\n",
    "    'group': 'id',\n",
    "    'numeric': ['angle', 'max', 'min', 'std', 'mean']\n",
    "}"
   ]
  },
  {
   "cell_type": "code",
   "execution_count": 27,
   "metadata": {},
   "outputs": [],
   "source": [
    "automl = TabularCVAutoML(task=task,\n",
    "                         timeout=5*3600,\n",
    "                         cpu_limit=6,\n",
    "                         reader_params = {'cv': 3, 'random_state': 42})"
   ]
  },
  {
   "cell_type": "code",
   "execution_count": 28,
   "metadata": {},
   "outputs": [
    {
     "name": "stdout",
     "output_type": "stream",
     "text": [
      "[22:25:04] Stdout logging level is INFO3.\n",
      "[22:25:04] Task: binary\n",
      "\n",
      "[22:25:04] Start automl preset with listed constraints:\n",
      "[22:25:04] - time: 18000.00 seconds\n",
      "[22:25:04] - CPU: 6 cores\n",
      "[22:25:04] - memory: 16 GB\n",
      "\n",
      "[22:25:04] \u001b[1mTrain data shape: (3208, 8)\u001b[0m\n",
      "\n",
      "[22:25:08] Feats was rejected during automatic roles guess: []\n",
      "[22:25:08] Layer \u001b[1m1\u001b[0m train process start. Time left 17996.41 secs\n",
      "Loaded pretrained weights for efficientnet-b0\n",
      "[22:25:16] Load saved dataset for path\n",
      "[22:25:16] Feature path transformed\n",
      "[22:25:16] Start fitting \u001b[1mLvl_0_Pipe_0_Mod_0_LinearL2\u001b[0m ...\n",
      "[22:25:16] ===== Start working with \u001b[1mfold 0\u001b[0m for \u001b[1mLvl_0_Pipe_0_Mod_0_LinearL2\u001b[0m =====\n",
      "[22:25:17] Linear model: C = 1e-05 score = 0.7220573689416419\n",
      "[22:25:17] Linear model: C = 5e-05 score = 0.7531956735496559\n",
      "[22:25:17] Linear model: C = 0.0001 score = 0.771964461994077\n",
      "[22:25:17] Linear model: C = 0.0005 score = 0.7983870967741935\n",
      "[22:25:17] Linear model: C = 0.001 score = 0.8040609137055836\n",
      "[22:25:17] Linear model: C = 0.005 score = 0.8137651821862348\n",
      "[22:25:17] Linear model: C = 0.01 score = 0.8173562058526742\n",
      "[22:25:17] Linear model: C = 0.05 score = 0.8148148148148149\n",
      "[22:25:17] Linear model: C = 0.1 score = 0.8139303482587065\n",
      "[22:25:18] ===== Start working with \u001b[1mfold 1\u001b[0m for \u001b[1mLvl_0_Pipe_0_Mod_0_LinearL2\u001b[0m =====\n",
      "[22:25:18] Linear model: C = 1e-05 score = 0.7354345749761223\n",
      "[22:25:18] Linear model: C = 5e-05 score = 0.7596899224806202\n",
      "[22:25:18] Linear model: C = 0.0001 score = 0.7666335650446872\n",
      "[22:25:18] Linear model: C = 0.0005 score = 0.7867867867867867\n",
      "[22:25:18] Linear model: C = 0.001 score = 0.8012108980827446\n",
      "[22:25:18] Linear model: C = 0.005 score = 0.8071928071928073\n",
      "[22:25:18] Linear model: C = 0.01 score = 0.8131868131868132\n",
      "[22:25:18] Linear model: C = 0.05 score = 0.816205533596838\n",
      "[22:25:19] Linear model: C = 0.1 score = 0.8137254901960785\n",
      "[22:25:19] Linear model: C = 0.5 score = 0.7996108949416342\n",
      "[22:25:19] ===== Start working with \u001b[1mfold 2\u001b[0m for \u001b[1mLvl_0_Pipe_0_Mod_0_LinearL2\u001b[0m =====\n",
      "[22:25:19] Linear model: C = 1e-05 score = 0.7432567432567433\n",
      "[22:25:19] Linear model: C = 5e-05 score = 0.7465618860510805\n",
      "[22:25:19] Linear model: C = 0.0001 score = 0.7566502463054187\n",
      "[22:25:19] Linear model: C = 0.0005 score = 0.7864271457085829\n",
      "[22:25:19] Linear model: C = 0.001 score = 0.7959999999999999\n",
      "[22:25:19] Linear model: C = 0.005 score = 0.8088531187122737\n",
      "[22:25:19] Linear model: C = 0.01 score = 0.8080402010050252\n",
      "[22:25:20] Linear model: C = 0.05 score = 0.8076535750251762\n",
      "[22:25:20] Fitting \u001b[1mLvl_0_Pipe_0_Mod_0_LinearL2\u001b[0m finished. score = \u001b[1m0.8141474808141473\u001b[0m\n",
      "[22:25:20] \u001b[1mLvl_0_Pipe_0_Mod_0_LinearL2\u001b[0m fitting and predicting completed\n",
      "[22:25:20] Time left 17984.67 secs\n",
      "\n",
      "[22:25:24] Start fitting \u001b[1mLvl_0_Pipe_1_Mod_0_CatBoost\u001b[0m ...\n",
      "[22:25:24] ===== Start working with \u001b[1mfold 0\u001b[0m for \u001b[1mLvl_0_Pipe_1_Mod_0_CatBoost\u001b[0m =====\n"
     ]
    },
    {
     "name": "stderr",
     "output_type": "stream",
     "text": [
      "Warning: less than 75% gpu memory available for training. Free: 2015.300001 Total: 4095.5625\n"
     ]
    },
    {
     "name": "stdout",
     "output_type": "stream",
     "text": [
      "[22:25:25] 0:\tlearn: 0.6775307\ttest: 0.6777931\tbest: 0.6777931 (0)\ttotal: 37.9ms\tremaining: 18.9s\n",
      "[22:25:28] bestTest = 0.4392635167\n",
      "[22:25:28] bestIteration = 498\n",
      "[22:25:28] Shrink model to first 499 iterations.\n",
      "[22:25:29] ===== Start working with \u001b[1mfold 1\u001b[0m for \u001b[1mLvl_0_Pipe_1_Mod_0_CatBoost\u001b[0m =====\n",
      "[22:25:29] 0:\tlearn: 0.6800608\ttest: 0.6807594\tbest: 0.6807594 (0)\ttotal: 8.76ms\tremaining: 4.37s\n"
     ]
    },
    {
     "name": "stderr",
     "output_type": "stream",
     "text": [
      "Warning: less than 75% gpu memory available for training. Free: 2015.300001 Total: 4095.5625\n"
     ]
    },
    {
     "name": "stdout",
     "output_type": "stream",
     "text": [
      "[22:25:32] bestTest = 0.4375001426\n",
      "[22:25:32] bestIteration = 482\n",
      "[22:25:32] Shrink model to first 483 iterations.\n",
      "[22:25:32] ===== Start working with \u001b[1mfold 2\u001b[0m for \u001b[1mLvl_0_Pipe_1_Mod_0_CatBoost\u001b[0m =====\n",
      "[22:25:32] 0:\tlearn: 0.6812192\ttest: 0.6816955\tbest: 0.6816955 (0)\ttotal: 7.58ms\tremaining: 3.78s\n"
     ]
    },
    {
     "name": "stderr",
     "output_type": "stream",
     "text": [
      "Warning: less than 75% gpu memory available for training. Free: 2015.300001 Total: 4095.5625\n"
     ]
    },
    {
     "name": "stdout",
     "output_type": "stream",
     "text": [
      "[22:25:35] bestTest = 0.4159949942\n",
      "[22:25:35] bestIteration = 498\n",
      "[22:25:35] Shrink model to first 499 iterations.\n",
      "[22:25:35] Fitting \u001b[1mLvl_0_Pipe_1_Mod_0_CatBoost\u001b[0m finished. score = \u001b[1m0.7831131163390267\u001b[0m\n",
      "[22:25:35] \u001b[1mLvl_0_Pipe_1_Mod_0_CatBoost\u001b[0m fitting and predicting completed\n",
      "[22:25:35] Time left 17968.91 secs\n",
      "\n",
      "[22:25:35] \u001b[1mLayer 1 training completed.\u001b[0m\n",
      "\n",
      "[22:25:35] Blending: optimization starts with equal weights and score \u001b[1m0.8415550473701405\u001b[0m\n",
      "[22:25:35] Blending: iteration \u001b[1m0\u001b[0m: score = \u001b[1m0.8425865447419987\u001b[0m, weights = \u001b[1m[0.4984867 0.5015133]\u001b[0m\n",
      "[22:25:35] Blending: iteration \u001b[1m1\u001b[0m: score = \u001b[1m0.8425865447419987\u001b[0m, weights = \u001b[1m[0.4984867 0.5015133]\u001b[0m\n",
      "[22:25:35] Blending: no score update. Terminated\n",
      "\n",
      "[22:25:35] \u001b[1mAutoml preset training completed in 31.16 seconds\u001b[0m\n",
      "\n",
      "[22:25:35] Model description:\n",
      "Final prediction for new objects (level 0) = \n",
      "\t 0.49849 * (3 averaged models Lvl_0_Pipe_0_Mod_0_LinearL2) +\n",
      "\t 0.50151 * (3 averaged models Lvl_0_Pipe_1_Mod_0_CatBoost) \n",
      "\n"
     ]
    }
   ],
   "source": [
    "oof_pred = automl.fit_predict(train_data, roles=roles, verbose=3)"
   ]
  },
  {
   "cell_type": "code",
   "execution_count": 52,
   "metadata": {},
   "outputs": [],
   "source": [
    "preds = train_data[['id', 'label']]"
   ]
  },
  {
   "cell_type": "code",
   "execution_count": 53,
   "metadata": {},
   "outputs": [
    {
     "name": "stdout",
     "output_type": "stream",
     "text": [
      "acc: 0.8802992518703242\n"
     ]
    },
    {
     "name": "stderr",
     "output_type": "stream",
     "text": [
      "C:\\Users\\grk\\AppData\\Local\\Temp\\ipykernel_4232\\3670957704.py:1: SettingWithCopyWarning: \n",
      "A value is trying to be set on a copy of a slice from a DataFrame.\n",
      "Try using .loc[row_indexer,col_indexer] = value instead\n",
      "\n",
      "See the caveats in the documentation: https://pandas.pydata.org/pandas-docs/stable/user_guide/indexing.html#returning-a-view-versus-a-copy\n",
      "  preds['pred'] = oof_pred.data[:]\n"
     ]
    }
   ],
   "source": [
    "preds['pred'] = oof_pred.data[:]\n",
    "preds = preds.groupby(['id', 'label']).mean().reset_index()\n",
    "# accuracy\n",
    "print(f'acc: {np.mean((preds.pred > 0.5).ravel() == preds.label)}')"
   ]
  },
  {
   "cell_type": "markdown",
   "metadata": {},
   "source": [
    "# Preprocess data the same way for the test dataset"
   ]
  },
  {
   "cell_type": "code",
   "execution_count": 41,
   "metadata": {},
   "outputs": [],
   "source": [
    "test = pd.read_json(f'{INPUT_DIR}/test.json')\n",
    "test['inc_angle'] = pd.to_numeric(test['inc_angle'],errors='coerce')"
   ]
  },
  {
   "cell_type": "code",
   "execution_count": 42,
   "metadata": {},
   "outputs": [
    {
     "data": {
      "text/html": [
       "<div>\n",
       "<style scoped>\n",
       "    .dataframe tbody tr th:only-of-type {\n",
       "        vertical-align: middle;\n",
       "    }\n",
       "\n",
       "    .dataframe tbody tr th {\n",
       "        vertical-align: top;\n",
       "    }\n",
       "\n",
       "    .dataframe thead th {\n",
       "        text-align: right;\n",
       "    }\n",
       "</style>\n",
       "<table border=\"1\" class=\"dataframe\">\n",
       "  <thead>\n",
       "    <tr style=\"text-align: right;\">\n",
       "      <th></th>\n",
       "      <th>id</th>\n",
       "      <th>band_1</th>\n",
       "      <th>band_2</th>\n",
       "      <th>inc_angle</th>\n",
       "    </tr>\n",
       "  </thead>\n",
       "  <tbody>\n",
       "    <tr>\n",
       "      <th>0</th>\n",
       "      <td>5941774d</td>\n",
       "      <td>[-15.863251, -15.201077, -17.887735, -19.17248...</td>\n",
       "      <td>[-21.629612, -21.142353, -23.908337, -28.34524...</td>\n",
       "      <td>34.966400</td>\n",
       "    </tr>\n",
       "    <tr>\n",
       "      <th>1</th>\n",
       "      <td>4023181e</td>\n",
       "      <td>[-26.058969497680664, -26.058969497680664, -26...</td>\n",
       "      <td>[-25.754207611083984, -25.754207611083984, -25...</td>\n",
       "      <td>32.615072</td>\n",
       "    </tr>\n",
       "    <tr>\n",
       "      <th>2</th>\n",
       "      <td>b20200e4</td>\n",
       "      <td>[-14.14109992980957, -15.064241409301758, -17....</td>\n",
       "      <td>[-14.74563980102539, -14.590410232543945, -14....</td>\n",
       "      <td>37.505433</td>\n",
       "    </tr>\n",
       "    <tr>\n",
       "      <th>3</th>\n",
       "      <td>e7f018bb</td>\n",
       "      <td>[-12.167478, -13.706167, -16.54837, -13.572674...</td>\n",
       "      <td>[-24.32222, -26.375538, -24.096739, -23.8769, ...</td>\n",
       "      <td>34.473900</td>\n",
       "    </tr>\n",
       "    <tr>\n",
       "      <th>4</th>\n",
       "      <td>4371c8c3</td>\n",
       "      <td>[-23.37459373474121, -26.02718162536621, -28.1...</td>\n",
       "      <td>[-25.72234344482422, -27.011577606201172, -23....</td>\n",
       "      <td>43.918874</td>\n",
       "    </tr>\n",
       "    <tr>\n",
       "      <th>...</th>\n",
       "      <td>...</td>\n",
       "      <td>...</td>\n",
       "      <td>...</td>\n",
       "      <td>...</td>\n",
       "    </tr>\n",
       "    <tr>\n",
       "      <th>8419</th>\n",
       "      <td>16ee9b50</td>\n",
       "      <td>[-25.082357, -26.71583, -24.599827, -25.082571...</td>\n",
       "      <td>[-25.860718, -23.29442, -25.860861, -25.334354...</td>\n",
       "      <td>34.795500</td>\n",
       "    </tr>\n",
       "    <tr>\n",
       "      <th>8420</th>\n",
       "      <td>5a599eb7</td>\n",
       "      <td>[-21.031391143798828, -21.031391143798828, -21...</td>\n",
       "      <td>[-23.755836486816406, -23.755836486816406, -23...</td>\n",
       "      <td>32.246683</td>\n",
       "    </tr>\n",
       "    <tr>\n",
       "      <th>8421</th>\n",
       "      <td>df30d6dd</td>\n",
       "      <td>[-28.609278, -26.514626, -26.514679, -26.83061...</td>\n",
       "      <td>[-28.609278, -29.437183, -30.35239, -31.375494...</td>\n",
       "      <td>39.503200</td>\n",
       "    </tr>\n",
       "    <tr>\n",
       "      <th>8422</th>\n",
       "      <td>18af95b1</td>\n",
       "      <td>[-27.068821, -27.068892, -23.970854, -22.38730...</td>\n",
       "      <td>[-29.991381, -29.163599, -24.886002, -27.71266...</td>\n",
       "      <td>33.638000</td>\n",
       "    </tr>\n",
       "    <tr>\n",
       "      <th>8423</th>\n",
       "      <td>27d788c8</td>\n",
       "      <td>[-25.438865661621094, -25.438865661621094, -25...</td>\n",
       "      <td>[-23.85527801513672, -23.85527801513672, -23.8...</td>\n",
       "      <td>36.758181</td>\n",
       "    </tr>\n",
       "  </tbody>\n",
       "</table>\n",
       "<p>8424 rows × 4 columns</p>\n",
       "</div>"
      ],
      "text/plain": [
       "            id                                             band_1  \\\n",
       "0     5941774d  [-15.863251, -15.201077, -17.887735, -19.17248...   \n",
       "1     4023181e  [-26.058969497680664, -26.058969497680664, -26...   \n",
       "2     b20200e4  [-14.14109992980957, -15.064241409301758, -17....   \n",
       "3     e7f018bb  [-12.167478, -13.706167, -16.54837, -13.572674...   \n",
       "4     4371c8c3  [-23.37459373474121, -26.02718162536621, -28.1...   \n",
       "...        ...                                                ...   \n",
       "8419  16ee9b50  [-25.082357, -26.71583, -24.599827, -25.082571...   \n",
       "8420  5a599eb7  [-21.031391143798828, -21.031391143798828, -21...   \n",
       "8421  df30d6dd  [-28.609278, -26.514626, -26.514679, -26.83061...   \n",
       "8422  18af95b1  [-27.068821, -27.068892, -23.970854, -22.38730...   \n",
       "8423  27d788c8  [-25.438865661621094, -25.438865661621094, -25...   \n",
       "\n",
       "                                                 band_2  inc_angle  \n",
       "0     [-21.629612, -21.142353, -23.908337, -28.34524...  34.966400  \n",
       "1     [-25.754207611083984, -25.754207611083984, -25...  32.615072  \n",
       "2     [-14.74563980102539, -14.590410232543945, -14....  37.505433  \n",
       "3     [-24.32222, -26.375538, -24.096739, -23.8769, ...  34.473900  \n",
       "4     [-25.72234344482422, -27.011577606201172, -23....  43.918874  \n",
       "...                                                 ...        ...  \n",
       "8419  [-25.860718, -23.29442, -25.860861, -25.334354...  34.795500  \n",
       "8420  [-23.755836486816406, -23.755836486816406, -23...  32.246683  \n",
       "8421  [-28.609278, -29.437183, -30.35239, -31.375494...  39.503200  \n",
       "8422  [-29.991381, -29.163599, -24.886002, -27.71266...  33.638000  \n",
       "8423  [-23.85527801513672, -23.85527801513672, -23.8...  36.758181  \n",
       "\n",
       "[8424 rows x 4 columns]"
      ]
     },
     "execution_count": 42,
     "metadata": {},
     "output_type": "execute_result"
    }
   ],
   "source": [
    "test"
   ]
  },
  {
   "cell_type": "code",
   "execution_count": 43,
   "metadata": {},
   "outputs": [],
   "source": [
    "test = get_stats(test, 1)\n",
    "test = get_stats(test, 2)"
   ]
  },
  {
   "cell_type": "code",
   "execution_count": 44,
   "metadata": {},
   "outputs": [],
   "source": [
    "new_imgs_test = []\n",
    "for i, row in test.iterrows():\n",
    "    band_1 = np.reshape(np.array(row.band_1),(75,75))\n",
    "    band_1 = cv2.normalize(band_1, None, alpha=0, beta=1, norm_type=cv2.NORM_MINMAX, dtype=cv2.CV_32F)\n",
    "    band_2 = np.reshape(np.array(row.band_2),(75,75))\n",
    "    band_2 = cv2.normalize(band_2, None, alpha=0, beta=1, norm_type=cv2.NORM_MINMAX, dtype=cv2.CV_32F)\n",
    "    cv2.imwrite(f'./data/icebergs/test_imgs/{row.id}_1.jpg', band_1*255)\n",
    "    cv2.imwrite(f'./data/icebergs/test_imgs/{row.id}_2.jpg', band_2*255)\n",
    "    new_imgs_test.append((row.id, f'./data/icebergs/test_imgs/{row.id}_1.jpg', row.inc_angle, row.max1, row.min1, row.std1, row.mean1))\n",
    "    new_imgs_test.append((row.id, f'./data/icebergs/test_imgs/{row.id}_2.jpg', row.inc_angle, row.max2, row.min2, row.std2, row.mean2))"
   ]
  },
  {
   "cell_type": "code",
   "execution_count": 45,
   "metadata": {},
   "outputs": [],
   "source": [
    "test_data  = pd.DataFrame(new_imgs_test, columns = ['id', 'path', 'angle', \"max\", \"min\", \"std\", \"mean\"])"
   ]
  },
  {
   "cell_type": "code",
   "execution_count": 46,
   "metadata": {},
   "outputs": [
    {
     "name": "stdout",
     "output_type": "stream",
     "text": [
      "[22:31:55] Load saved dataset for path\n",
      "[22:31:55] Feature path transformed\n",
      "Prediction for te_data:\n",
      "array([[0.05492836],\n",
      "       [0.669874  ],\n",
      "       [0.2610988 ],\n",
      "       ...,\n",
      "       [0.89462507],\n",
      "       [0.02455477],\n",
      "       [0.05861698]], dtype=float32)\n",
      "Shape = (16848, 1)\n"
     ]
    }
   ],
   "source": [
    "te_pred = automl.predict(test_data)\n",
    "print(f'Prediction for te_data:\\n{te_pred}\\nShape = {te_pred.shape}')"
   ]
  },
  {
   "cell_type": "code",
   "execution_count": 47,
   "metadata": {},
   "outputs": [
    {
     "name": "stderr",
     "output_type": "stream",
     "text": [
      "C:\\Users\\grk\\AppData\\Local\\Temp\\ipykernel_4232\\2875253098.py:2: SettingWithCopyWarning: \n",
      "A value is trying to be set on a copy of a slice from a DataFrame.\n",
      "Try using .loc[row_indexer,col_indexer] = value instead\n",
      "\n",
      "See the caveats in the documentation: https://pandas.pydata.org/pandas-docs/stable/user_guide/indexing.html#returning-a-view-versus-a-copy\n",
      "  submission['is_iceberg'] = te_pred.data\n"
     ]
    }
   ],
   "source": [
    "submission = test_data[['id']]\n",
    "submission['is_iceberg'] = te_pred.data\n",
    "submission = submission.groupby(['id']).mean().reset_index()"
   ]
  },
  {
   "cell_type": "code",
   "execution_count": 48,
   "metadata": {},
   "outputs": [
    {
     "data": {
      "text/html": [
       "<div>\n",
       "<style scoped>\n",
       "    .dataframe tbody tr th:only-of-type {\n",
       "        vertical-align: middle;\n",
       "    }\n",
       "\n",
       "    .dataframe tbody tr th {\n",
       "        vertical-align: top;\n",
       "    }\n",
       "\n",
       "    .dataframe thead th {\n",
       "        text-align: right;\n",
       "    }\n",
       "</style>\n",
       "<table border=\"1\" class=\"dataframe\">\n",
       "  <thead>\n",
       "    <tr style=\"text-align: right;\">\n",
       "      <th></th>\n",
       "      <th>id</th>\n",
       "      <th>is_iceberg</th>\n",
       "    </tr>\n",
       "  </thead>\n",
       "  <tbody>\n",
       "    <tr>\n",
       "      <th>0</th>\n",
       "      <td>000c65d7</td>\n",
       "      <td>0.736580</td>\n",
       "    </tr>\n",
       "    <tr>\n",
       "      <th>1</th>\n",
       "      <td>001680af</td>\n",
       "      <td>0.526701</td>\n",
       "    </tr>\n",
       "    <tr>\n",
       "      <th>2</th>\n",
       "      <td>00193999</td>\n",
       "      <td>0.572906</td>\n",
       "    </tr>\n",
       "    <tr>\n",
       "      <th>3</th>\n",
       "      <td>00247e48</td>\n",
       "      <td>0.851838</td>\n",
       "    </tr>\n",
       "    <tr>\n",
       "      <th>4</th>\n",
       "      <td>00503faa</td>\n",
       "      <td>0.502105</td>\n",
       "    </tr>\n",
       "    <tr>\n",
       "      <th>...</th>\n",
       "      <td>...</td>\n",
       "      <td>...</td>\n",
       "    </tr>\n",
       "    <tr>\n",
       "      <th>8419</th>\n",
       "      <td>ffd5b968</td>\n",
       "      <td>0.411623</td>\n",
       "    </tr>\n",
       "    <tr>\n",
       "      <th>8420</th>\n",
       "      <td>ffda8ccc</td>\n",
       "      <td>0.906196</td>\n",
       "    </tr>\n",
       "    <tr>\n",
       "      <th>8421</th>\n",
       "      <td>ffe50836</td>\n",
       "      <td>0.100369</td>\n",
       "    </tr>\n",
       "    <tr>\n",
       "      <th>8422</th>\n",
       "      <td>ffef5f6b</td>\n",
       "      <td>0.798795</td>\n",
       "    </tr>\n",
       "    <tr>\n",
       "      <th>8423</th>\n",
       "      <td>fff77564</td>\n",
       "      <td>0.191171</td>\n",
       "    </tr>\n",
       "  </tbody>\n",
       "</table>\n",
       "<p>8424 rows × 2 columns</p>\n",
       "</div>"
      ],
      "text/plain": [
       "            id  is_iceberg\n",
       "0     000c65d7    0.736580\n",
       "1     001680af    0.526701\n",
       "2     00193999    0.572906\n",
       "3     00247e48    0.851838\n",
       "4     00503faa    0.502105\n",
       "...        ...         ...\n",
       "8419  ffd5b968    0.411623\n",
       "8420  ffda8ccc    0.906196\n",
       "8421  ffe50836    0.100369\n",
       "8422  ffef5f6b    0.798795\n",
       "8423  fff77564    0.191171\n",
       "\n",
       "[8424 rows x 2 columns]"
      ]
     },
     "execution_count": 48,
     "metadata": {},
     "output_type": "execute_result"
    }
   ],
   "source": [
    "submission"
   ]
  },
  {
   "cell_type": "code",
   "execution_count": 49,
   "metadata": {},
   "outputs": [],
   "source": [
    "submission.to_csv('./data/submissions/iceberg_submission_lama_eda_feat.csv', index=False)"
   ]
  },
  {
   "cell_type": "markdown",
   "metadata": {},
   "source": [
    "## Now let's try pipeline with some different settings\n",
    "\n",
    "Add LGBM to blending, change visual encoder to efficientnet-b3, change number of CV folds"
   ]
  },
  {
   "cell_type": "code",
   "execution_count": 13,
   "metadata": {},
   "outputs": [],
   "source": [
    "automl_b3_lgb = TabularCVAutoML(task = task,\n",
    "                         general_params={\n",
    "                           'use_algos': [['linear_l2', 'cb', 'lgb']]  \n",
    "                         },\n",
    "                         timeout=5 * 3600,\n",
    "                         autocv_features={\"embed_model\": 'efficientnet-b3'},\n",
    "                         cpu_limit = 2,\n",
    "                         reader_params = {'cv': 5, 'random_state': 42})"
   ]
  },
  {
   "cell_type": "code",
   "execution_count": 14,
   "metadata": {},
   "outputs": [
    {
     "name": "stdout",
     "output_type": "stream",
     "text": [
      "[23:54:15] Stdout logging level is INFO3.\n",
      "[23:54:15] Task: binary\n",
      "\n",
      "[23:54:15] Start automl preset with listed constraints:\n",
      "[23:54:15] - time: 18000.00 seconds\n",
      "[23:54:15] - CPU: 2 cores\n",
      "[23:54:15] - memory: 16 GB\n",
      "\n",
      "[23:54:15] \u001b[1mTrain data shape: (3208, 8)\u001b[0m\n",
      "\n",
      "[23:54:18] Feats was rejected during automatic roles guess: []\n",
      "[23:54:18] Layer \u001b[1m1\u001b[0m train process start. Time left 17997.39 secs\n",
      "Loaded pretrained weights for efficientnet-b3\n",
      "[23:54:23] Load saved dataset for path\n",
      "[23:54:23] Feature path transformed\n",
      "[23:54:24] Start fitting \u001b[1mLvl_0_Pipe_0_Mod_0_LinearL2\u001b[0m ...\n",
      "[23:54:24] ===== Start working with \u001b[1mfold 0\u001b[0m for \u001b[1mLvl_0_Pipe_0_Mod_0_LinearL2\u001b[0m =====\n",
      "[23:54:24] Linear model: C = 1e-05 score = 0.7196401799100451\n",
      "[23:54:24] Linear model: C = 5e-05 score = 0.7566718995290422\n",
      "[23:54:24] Linear model: C = 0.0001 score = 0.7740916271721958\n",
      "[23:54:24] Linear model: C = 0.0005 score = 0.8063492063492065\n",
      "[23:54:24] Linear model: C = 0.001 score = 0.8205128205128205\n",
      "[23:54:24] Linear model: C = 0.005 score = 0.827140549273021\n",
      "[23:54:24] Linear model: C = 0.01 score = 0.839546191247974\n",
      "[23:54:25] Linear model: C = 0.05 score = 0.8291139240506329\n",
      "[23:54:25] Linear model: C = 0.1 score = 0.8253968253968254\n",
      "[23:54:25] ===== Start working with \u001b[1mfold 1\u001b[0m for \u001b[1mLvl_0_Pipe_0_Mod_0_LinearL2\u001b[0m =====\n",
      "[23:54:25] Linear model: C = 1e-05 score = 0.6920529801324503\n",
      "[23:54:25] Linear model: C = 5e-05 score = 0.7301038062283737\n",
      "[23:54:25] Linear model: C = 0.0001 score = 0.7401032702237522\n",
      "[23:54:25] Linear model: C = 0.0005 score = 0.75043630017452\n",
      "[23:54:25] Linear model: C = 0.001 score = 0.7652173913043478\n",
      "[23:54:26] Linear model: C = 0.005 score = 0.7779690189328743\n",
      "[23:54:26] Linear model: C = 0.01 score = 0.7843803056027163\n",
      "[23:54:26] Linear model: C = 0.05 score = 0.7873754152823921\n",
      "[23:54:26] Linear model: C = 0.1 score = 0.778877887788779\n",
      "[23:54:26] Linear model: C = 0.5 score = 0.7757774140752864\n",
      "[23:54:26] ===== Start working with \u001b[1mfold 2\u001b[0m for \u001b[1mLvl_0_Pipe_0_Mod_0_LinearL2\u001b[0m =====\n",
      "[23:54:26] Linear model: C = 1e-05 score = 0.7435897435897436\n",
      "[23:54:26] Linear model: C = 5e-05 score = 0.785016286644951\n",
      "[23:54:27] Linear model: C = 0.0001 score = 0.7940691927512354\n",
      "[23:54:27] Linear model: C = 0.0005 score = 0.8266666666666668\n",
      "[23:54:27] Linear model: C = 0.001 score = 0.8288590604026846\n",
      "[23:54:27] Linear model: C = 0.005 score = 0.8316498316498316\n",
      "[23:54:27] Linear model: C = 0.01 score = 0.8412162162162162\n",
      "[23:54:27] Linear model: C = 0.05 score = 0.8286189683860233\n",
      "[23:54:27] Linear model: C = 0.1 score = 0.830820770519263\n",
      "[23:54:27] ===== Start working with \u001b[1mfold 3\u001b[0m for \u001b[1mLvl_0_Pipe_0_Mod_0_LinearL2\u001b[0m =====\n",
      "[23:54:27] Linear model: C = 1e-05 score = 0.6782006920415224\n",
      "[23:54:27] Linear model: C = 5e-05 score = 0.7207207207207207\n",
      "[23:54:28] Linear model: C = 0.0001 score = 0.7315315315315316\n",
      "[23:54:28] Linear model: C = 0.0005 score = 0.7631103074141048\n",
      "[23:54:28] Linear model: C = 0.001 score = 0.7631103074141048\n",
      "[23:54:28] Linear model: C = 0.005 score = 0.7922535211267606\n",
      "[23:54:28] Linear model: C = 0.01 score = 0.8049209138840069\n",
      "[23:54:28] Linear model: C = 0.05 score = 0.800705467372134\n",
      "[23:54:28] Linear model: C = 0.1 score = 0.784452296819788\n",
      "[23:54:28] ===== Start working with \u001b[1mfold 4\u001b[0m for \u001b[1mLvl_0_Pipe_0_Mod_0_LinearL2\u001b[0m =====\n",
      "[23:54:28] Linear model: C = 1e-05 score = 0.7192118226600985\n",
      "[23:54:29] Linear model: C = 5e-05 score = 0.766721044045677\n",
      "[23:54:29] Linear model: C = 0.0001 score = 0.781045751633987\n",
      "[23:54:29] Linear model: C = 0.0005 score = 0.799342105263158\n",
      "[23:54:29] Linear model: C = 0.001 score = 0.8065040650406504\n",
      "[23:54:29] Linear model: C = 0.005 score = 0.8314238952536825\n",
      "[23:54:29] Linear model: C = 0.01 score = 0.8379705400981997\n",
      "[23:54:29] Linear model: C = 0.05 score = 0.8163934426229508\n",
      "[23:54:29] Linear model: C = 0.1 score = 0.814935064935065\n",
      "[23:54:29] Fitting \u001b[1mLvl_0_Pipe_0_Mod_0_LinearL2\u001b[0m finished. score = \u001b[1m0.8224674022066197\u001b[0m\n",
      "[23:54:29] \u001b[1mLvl_0_Pipe_0_Mod_0_LinearL2\u001b[0m fitting and predicting completed\n",
      "[23:54:29] Time left 17985.68 secs\n",
      "\n",
      "[23:54:33] Start fitting \u001b[1mLvl_0_Pipe_1_Mod_0_LightGBM\u001b[0m ...\n",
      "[23:54:33] ===== Start working with \u001b[1mfold 0\u001b[0m for \u001b[1mLvl_0_Pipe_1_Mod_0_LightGBM\u001b[0m =====\n",
      "[23:54:33] Training until validation scores don't improve for 200 rounds\n",
      "[23:54:35] ===== Start working with \u001b[1mfold 1\u001b[0m for \u001b[1mLvl_0_Pipe_1_Mod_0_LightGBM\u001b[0m =====\n",
      "[23:54:35] Training until validation scores don't improve for 200 rounds\n",
      "[23:54:37] ===== Start working with \u001b[1mfold 2\u001b[0m for \u001b[1mLvl_0_Pipe_1_Mod_0_LightGBM\u001b[0m =====\n",
      "[23:54:37] Training until validation scores don't improve for 200 rounds\n",
      "[23:54:39] ===== Start working with \u001b[1mfold 3\u001b[0m for \u001b[1mLvl_0_Pipe_1_Mod_0_LightGBM\u001b[0m =====\n",
      "[23:54:39] Training until validation scores don't improve for 200 rounds\n",
      "[23:54:40] ===== Start working with \u001b[1mfold 4\u001b[0m for \u001b[1mLvl_0_Pipe_1_Mod_0_LightGBM\u001b[0m =====\n",
      "[23:54:40] Training until validation scores don't improve for 200 rounds\n",
      "[23:54:42] Fitting \u001b[1mLvl_0_Pipe_1_Mod_0_LightGBM\u001b[0m finished. score = \u001b[1m0.8391745823779888\u001b[0m\n",
      "[23:54:42] \u001b[1mLvl_0_Pipe_1_Mod_0_LightGBM\u001b[0m fitting and predicting completed\n",
      "[23:54:43] Start fitting \u001b[1mLvl_0_Pipe_1_Mod_1_CatBoost\u001b[0m ...\n",
      "[23:54:43] ===== Start working with \u001b[1mfold 0\u001b[0m for \u001b[1mLvl_0_Pipe_1_Mod_1_CatBoost\u001b[0m =====\n"
     ]
    },
    {
     "name": "stderr",
     "output_type": "stream",
     "text": [
      "Warning: less than 75% gpu memory available for training. Free: 1967.300001 Total: 4095.5625\n"
     ]
    },
    {
     "name": "stdout",
     "output_type": "stream",
     "text": [
      "[23:54:43] 0:\tlearn: 0.6805706\ttest: 0.6827102\tbest: 0.6827102 (0)\ttotal: 22.8ms\tremaining: 11.4s\n",
      "[23:54:47] bestTest = 0.4785069736\n",
      "[23:54:47] bestIteration = 477\n",
      "[23:54:47] Shrink model to first 478 iterations.\n",
      "[23:54:47] ===== Start working with \u001b[1mfold 1\u001b[0m for \u001b[1mLvl_0_Pipe_1_Mod_1_CatBoost\u001b[0m =====\n",
      "[23:54:47] 0:\tlearn: 0.6787738\ttest: 0.6800371\tbest: 0.6800371 (0)\ttotal: 6.96ms\tremaining: 3.47s\n"
     ]
    },
    {
     "name": "stderr",
     "output_type": "stream",
     "text": [
      "Warning: less than 75% gpu memory available for training. Free: 1967.300001 Total: 4095.5625\n"
     ]
    },
    {
     "name": "stdout",
     "output_type": "stream",
     "text": [
      "[23:54:50] bestTest = 0.4250654654\n",
      "[23:54:50] bestIteration = 493\n",
      "[23:54:50] Shrink model to first 494 iterations.\n",
      "[23:54:50] ===== Start working with \u001b[1mfold 2\u001b[0m for \u001b[1mLvl_0_Pipe_1_Mod_1_CatBoost\u001b[0m =====\n",
      "[23:54:50] 0:\tlearn: 0.6815882\ttest: 0.6808770\tbest: 0.6808770 (0)\ttotal: 7.07ms\tremaining: 3.53s\n"
     ]
    },
    {
     "name": "stderr",
     "output_type": "stream",
     "text": [
      "Warning: less than 75% gpu memory available for training. Free: 1967.300001 Total: 4095.5625\n"
     ]
    },
    {
     "name": "stdout",
     "output_type": "stream",
     "text": [
      "[23:54:53] bestTest = 0.441986084\n",
      "[23:54:53] bestIteration = 396\n",
      "[23:54:53] Shrink model to first 397 iterations.\n",
      "[23:54:53] ===== Start working with \u001b[1mfold 3\u001b[0m for \u001b[1mLvl_0_Pipe_1_Mod_1_CatBoost\u001b[0m =====\n",
      "[23:54:53] 0:\tlearn: 0.6790970\ttest: 0.6808030\tbest: 0.6808030 (0)\ttotal: 6.74ms\tremaining: 3.36s\n"
     ]
    },
    {
     "name": "stderr",
     "output_type": "stream",
     "text": [
      "Warning: less than 75% gpu memory available for training. Free: 1967.300001 Total: 4095.5625\n"
     ]
    },
    {
     "name": "stdout",
     "output_type": "stream",
     "text": [
      "[23:54:56] bestTest = 0.428965013\n",
      "[23:54:56] bestIteration = 496\n",
      "[23:54:56] Shrink model to first 497 iterations.\n",
      "[23:54:56] ===== Start working with \u001b[1mfold 4\u001b[0m for \u001b[1mLvl_0_Pipe_1_Mod_1_CatBoost\u001b[0m =====\n",
      "[23:54:56] 0:\tlearn: 0.6787101\ttest: 0.6782697\tbest: 0.6782697 (0)\ttotal: 6.18ms\tremaining: 3.08s\n"
     ]
    },
    {
     "name": "stderr",
     "output_type": "stream",
     "text": [
      "Warning: less than 75% gpu memory available for training. Free: 1967.300001 Total: 4095.5625\n"
     ]
    },
    {
     "name": "stdout",
     "output_type": "stream",
     "text": [
      "[23:55:00] bestTest = 0.391325593\n",
      "[23:55:00] bestIteration = 499\n",
      "[23:55:00] Fitting \u001b[1mLvl_0_Pipe_1_Mod_1_CatBoost\u001b[0m finished. score = \u001b[1m0.7854381443298968\u001b[0m\n",
      "[23:55:00] \u001b[1mLvl_0_Pipe_1_Mod_1_CatBoost\u001b[0m fitting and predicting completed\n",
      "[23:55:00] Time left 17955.45 secs\n",
      "\n",
      "[23:55:00] \u001b[1mLayer 1 training completed.\u001b[0m\n",
      "\n",
      "[23:55:00] Blending: optimization starts with equal weights and score \u001b[1m0.8437602358336064\u001b[0m\n",
      "[23:55:00] Blending: iteration \u001b[1m0\u001b[0m: score = \u001b[1m0.8540218470705064\u001b[0m, weights = \u001b[1m[0.5361579  0.3768723  0.08696972]\u001b[0m\n",
      "[23:55:00] Blending: iteration \u001b[1m1\u001b[0m: score = \u001b[1m0.8567682726974762\u001b[0m, weights = \u001b[1m[0.300882   0.618034   0.08108404]\u001b[0m\n",
      "[23:55:00] Blending: iteration \u001b[1m2\u001b[0m: score = \u001b[1m0.8567682726974762\u001b[0m, weights = \u001b[1m[0.300882   0.618034   0.08108404]\u001b[0m\n",
      "[23:55:00] Blending: no score update. Terminated\n",
      "\n",
      "[23:55:00] \u001b[1mAutoml preset training completed in 44.66 seconds\u001b[0m\n",
      "\n",
      "[23:55:00] Model description:\n",
      "Final prediction for new objects (level 0) = \n",
      "\t 0.30088 * (5 averaged models Lvl_0_Pipe_0_Mod_0_LinearL2) +\n",
      "\t 0.61803 * (5 averaged models Lvl_0_Pipe_1_Mod_0_LightGBM) +\n",
      "\t 0.08108 * (5 averaged models Lvl_0_Pipe_1_Mod_1_CatBoost) \n",
      "\n"
     ]
    }
   ],
   "source": [
    "oof_pred = automl_b3_lgb.fit_predict(train_data, roles=roles, verbose=3)"
   ]
  },
  {
   "cell_type": "code",
   "execution_count": 15,
   "metadata": {},
   "outputs": [],
   "source": [
    "preds = train_data[['id', 'label']]"
   ]
  },
  {
   "cell_type": "code",
   "execution_count": 16,
   "metadata": {},
   "outputs": [
    {
     "name": "stdout",
     "output_type": "stream",
     "text": [
      "acc: 0.89214463840399\n"
     ]
    },
    {
     "name": "stderr",
     "output_type": "stream",
     "text": [
      "C:\\Users\\grk\\AppData\\Local\\Temp\\ipykernel_13748\\3670957704.py:1: SettingWithCopyWarning: \n",
      "A value is trying to be set on a copy of a slice from a DataFrame.\n",
      "Try using .loc[row_indexer,col_indexer] = value instead\n",
      "\n",
      "See the caveats in the documentation: https://pandas.pydata.org/pandas-docs/stable/user_guide/indexing.html#returning-a-view-versus-a-copy\n",
      "  preds['pred'] = oof_pred.data[:]\n"
     ]
    }
   ],
   "source": [
    "preds['pred'] = oof_pred.data[:]\n",
    "preds = preds.groupby(['id', 'label']).mean().reset_index()\n",
    "# accuracy\n",
    "print(f'acc: {np.mean((preds.pred > 0.5).ravel() == preds.label)}')"
   ]
  },
  {
   "cell_type": "code",
   "execution_count": 21,
   "metadata": {},
   "outputs": [
    {
     "name": "stderr",
     "output_type": "stream",
     "text": [
      "100%|██████████| 132/132 [06:18<00:00,  2.87s/it]\n"
     ]
    },
    {
     "name": "stdout",
     "output_type": "stream",
     "text": [
      "[00:35:15] Feature path transformed\n",
      "Prediction for te_data:\n",
      "array([[0.03721453],\n",
      "       [0.64732355],\n",
      "       [0.58381045],\n",
      "       ...,\n",
      "       [0.9313757 ],\n",
      "       [0.03356019],\n",
      "       [0.06219441]], dtype=float32)\n",
      "Shape = (16848, 1)\n"
     ]
    }
   ],
   "source": [
    "te_pred = automl_b3_lgb.predict(test_data)\n",
    "print(f'Prediction for te_data:\\n{te_pred}\\nShape = {te_pred.shape}')"
   ]
  },
  {
   "cell_type": "code",
   "execution_count": 22,
   "metadata": {},
   "outputs": [
    {
     "name": "stderr",
     "output_type": "stream",
     "text": [
      "C:\\Users\\grk\\AppData\\Local\\Temp\\ipykernel_13748\\1865540091.py:2: SettingWithCopyWarning: \n",
      "A value is trying to be set on a copy of a slice from a DataFrame.\n",
      "Try using .loc[row_indexer,col_indexer] = value instead\n",
      "\n",
      "See the caveats in the documentation: https://pandas.pydata.org/pandas-docs/stable/user_guide/indexing.html#returning-a-view-versus-a-copy\n",
      "  submission['is_iceberg'] = te_pred.data\n"
     ]
    }
   ],
   "source": [
    "submission = test_data[['id']]\n",
    "submission['is_iceberg'] = te_pred.data\n",
    "submission = submission.groupby(['id']).mean().reset_index()\n",
    "submission.to_csv('./data/submissions/iceberg_submission_lama_eda_feat_effb3_lgbm.csv', index=False)"
   ]
  }
 ],
 "metadata": {
  "kernelspec": {
   "display_name": ".venv",
   "language": "python",
   "name": "python3"
  },
  "language_info": {
   "codemirror_mode": {
    "name": "ipython",
    "version": 3
   },
   "file_extension": ".py",
   "mimetype": "text/x-python",
   "name": "python",
   "nbconvert_exporter": "python",
   "pygments_lexer": "ipython3",
   "version": "3.8.0"
  }
 },
 "nbformat": 4,
 "nbformat_minor": 2
}
